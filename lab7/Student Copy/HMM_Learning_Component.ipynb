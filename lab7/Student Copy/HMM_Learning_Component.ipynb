{
  "cells": [
    {
      "cell_type": "markdown",
      "metadata": {
        "id": "nc7RIYOW7x2r"
      },
      "source": [
        "# Understanding Hidden Markov Models (HMM)\n",
        "\n",
        "## Introduction to HMM\n",
        "\n",
        "A Hidden Markov Model (HMM) is a statistical model that represents systems that are assumed to be Markov processes with unobserved (hidden) states. HMMs are widely used in various applications, including speech recognition, bioinformatics, and natural language processing.\n",
        "\n",
        "### Key Components of HMM\n",
        "\n",
        "1. **Hidden States**: These are the states of the system that are not directly observable. In our example, we have three hidden states:\n",
        "   - Charging\n",
        "   - Navigating\n",
        "   - Exploring\n",
        "\n",
        "2. **Observable States**: These are the states that can be observed or measured. In this example, the observable states are:\n",
        "   - Idle\n",
        "   - Move\n",
        "   - Scan\n",
        "\n",
        "3. **Start Probabilities**: These represent the initial probabilities of each hidden state.\n",
        "\n",
        "4. **Transition Matrix**: This matrix defines the probabilities of transitioning from one hidden state to another.\n",
        "\n",
        "5. **Emission Probabilities**: This matrix defines the probabilities of observing each observable state from a hidden state.\n",
        "\n",
        "The following Python code uses the `hmmlearn` library to create and fit a Hidden Markov Model."
      ]
    },
    {
      "cell_type": "code",
      "execution_count": 1,
      "metadata": {
        "colab": {
          "base_uri": "https://localhost:8080/"
        },
        "id": "lKr8_T7g8Cho",
        "outputId": "b013038d-2868-4fff-aadb-890903c59e60"
      },
      "outputs": [],
      "source": [
        "# Install hmmlearn library\n",
        "# !pip install hmmlearn"
      ]
    },
    {
      "cell_type": "code",
      "execution_count": 2,
      "metadata": {
        "id": "zKIGlccI5thX"
      },
      "outputs": [],
      "source": [
        "# Import libraries\n",
        "import numpy as np\n",
        "from hmmlearn import hmm"
      ]
    },
    {
      "cell_type": "code",
      "execution_count": 3,
      "metadata": {
        "id": "w6vIq1Hr7dsT"
      },
      "outputs": [],
      "source": [
        "# Hidden states\n",
        "hidden_states = [\"Charging\", \"Navigating\", \"Exploring\"]\n",
        "id2state = dict(zip(range(len(hidden_states)), hidden_states))\n",
        "\n",
        "# Prior probabilities for each hidden state\n",
        "start_probs = np.array([0.3, 0.4, 0.3])  # 30% Charging, 40% Navigating, 30% Exploring\n",
        "\n",
        "# Transition matrix for hidden states\n",
        "trans_mat = np.array([[0.1, 0.8, 0.1],  # From Charging:   10% remain in Charging, 80% transition to Navigating, 10% transition to Exploring\n",
        "                      [0.2, 0.6, 0.2],  # From Navigating: 20% transition to Charging, 60% remain in Navigating, 20% transition to Exploring\n",
        "                      [0.5, 0.1, 0.4]]) # From Exploring:  50% transition to Charging, 10% transition to Navigating, 40% remain in Exploring\n",
        "\n",
        "# Observable states and their corresponding emission probabilities\n",
        "observable_states = [\"idle\", \"move\", \"scan\"]\n",
        "emission_probs = np.array([[0.33, 0.34, 0.33],  # Emissions for Charging:   33% Idle, 34% Move, 33% Scan\n",
        "                           [0.2, 0.1, 0.7],     # Emissions for Navigating: 20% Idle, 10% Move, 70% Scan\n",
        "                           [0.2, 0.36, 0.44]])  # Emissions for Exploring:  20% Idle, 36% Move, 44% Scan\n",
        "\n",
        "# List of observation sequences\n",
        "observations = [[\"idle\", \"scan\", \"move\"],\n",
        "                [\"move\", \"scan\", \"idle\"],\n",
        "                [\"move\", \"move\", \"scan\"],\n",
        "                [\"idle\", \"move\", \"scan\"],\n",
        "                [\"scan\", \"idle\", \"idle\"]]\n"
      ]
    },
    {
      "cell_type": "code",
      "execution_count": 4,
      "metadata": {
        "id": "H1S76TSL8gJs"
      },
      "outputs": [],
      "source": [
        "# Create a mapping from observable states to IDs\n",
        "obs2id = dict(zip(observable_states, range(len(observable_states))))"
      ]
    },
    {
      "cell_type": "code",
      "execution_count": 5,
      "metadata": {
        "id": "A8mk9SWY8diS"
      },
      "outputs": [],
      "source": [
        "\n",
        "# Convert observations to counts\n",
        "def observation2counts(observation):\n",
        "    ans = []\n",
        "    for word, idx in obs2id.items():\n",
        "        count = observation.count(word)\n",
        "        ans.append(count)\n",
        "    return ans\n",
        "\n",
        "# Prepare the data for the model\n",
        "X = []\n",
        "for observation in observations:\n",
        "    row = observation2counts(observation)\n",
        "    X.append(row)\n",
        "\n",
        "data = np.array(X, dtype=int)\n",
        "lengths = [len(X)] * 5\n",
        "sequences = np.tile(data, (5, 1))"
      ]
    },
    {
      "cell_type": "code",
      "execution_count": 6,
      "metadata": {
        "colab": {
          "base_uri": "https://localhost:8080/"
        },
        "id": "HHF98Mhw8kz4",
        "outputId": "f6e6f7fa-04d8-47dc-f0bf-57dbe5e62bc5"
      },
      "outputs": [
        {
          "name": "stderr",
          "output_type": "stream",
          "text": [
            "MultinomialHMM has undergone major changes. The previous version was implementing a CategoricalHMM (a special case of MultinomialHMM). This new implementation follows the standard definition for a Multinomial distribution (e.g. as in https://en.wikipedia.org/wiki/Multinomial_distribution). See these issues for details:\n",
            "https://github.com/hmmlearn/hmmlearn/issues/335\n",
            "https://github.com/hmmlearn/hmmlearn/issues/340\n",
            "Model is not converging.  Current: -44.395080030025994 is not greater than -38.40158019379029. Delta is -5.993499836235706\n"
          ]
        }
      ],
      "source": [
        "# Create and fit the HMM model\n",
        "model = hmm.MultinomialHMM(n_components=len(hidden_states), n_iter=100, init_params='', random_state=0, tol=0.001)\n",
        "model.n_features = len(observable_states)\n",
        "model.startprob_ = start_probs\n",
        "model.transmat_ = trans_mat\n",
        "model.emissionprob_ = emission_probs\n",
        "model.fit(sequences, lengths)\n",
        "\n",
        "# Decode the predicted states\n",
        "logprob, predicted_states = model.decode(sequences)"
      ]
    },
    {
      "cell_type": "code",
      "execution_count": 7,
      "metadata": {
        "colab": {
          "base_uri": "https://localhost:8080/"
        },
        "id": "lcZTxCzP8pRl",
        "outputId": "c6a2199c-7b83-41f9-af2a-2ee439324cf6"
      },
      "outputs": [
        {
          "name": "stdout",
          "output_type": "stream",
          "text": [
            "Predicted states:\n",
            "['Charging', 'Charging', 'Charging', 'Charging', 'Charging', 'Charging', 'Charging', 'Charging', 'Charging', 'Charging', 'Charging', 'Charging', 'Charging', 'Charging', 'Charging', 'Charging', 'Charging', 'Charging', 'Charging', 'Charging', 'Charging', 'Charging', 'Charging', 'Charging', 'Charging']\n"
          ]
        }
      ],
      "source": [
        "# Predicted states and learned probabilities\n",
        "print(\"Predicted states:\")\n",
        "print([id2state[x] for x in predicted_states])"
      ]
    },
    {
      "cell_type": "code",
      "execution_count": 8,
      "metadata": {
        "colab": {
          "base_uri": "https://localhost:8080/"
        },
        "id": "KcmrjhXJ8rC2",
        "outputId": "1efc83d0-99f6-4baa-b191-82786cc10313"
      },
      "outputs": [
        {
          "name": "stderr",
          "output_type": "stream",
          "text": [
            "MultinomialHMM has undergone major changes. The previous version was implementing a CategoricalHMM (a special case of MultinomialHMM). This new implementation follows the standard definition for a Multinomial distribution (e.g. as in https://en.wikipedia.org/wiki/Multinomial_distribution). See these issues for details:\n",
            "https://github.com/hmmlearn/hmmlearn/issues/335\n",
            "https://github.com/hmmlearn/hmmlearn/issues/340\n",
            "Model is not converging.  Current: -44.487992651698825 is not greater than -43.93426367205755. Delta is -0.5537289796412779\n"
          ]
        }
      ],
      "source": [
        "# Create a new model with random initialization for comparison\n",
        "new_model = hmm.MultinomialHMM(n_components=len(hidden_states), n_iter=100, init_params='ste', random_state=0, tol=0.001)\n",
        "new_model.fit(sequences, lengths)\n",
        "\n",
        "# Decode the predicted states for the new model\n",
        "logprob, new_predicted_states = new_model.decode(sequences)"
      ]
    },
    {
      "cell_type": "code",
      "execution_count": 9,
      "metadata": {
        "colab": {
          "base_uri": "https://localhost:8080/"
        },
        "id": "cBWl2T9M8vLh",
        "outputId": "fea24346-727e-41fe-aff3-693ba3ae01c1"
      },
      "outputs": [
        {
          "name": "stdout",
          "output_type": "stream",
          "text": [
            "\n",
            "New Model Predictions:\n",
            "Predicted states:\n",
            "['Charging', 'Charging', 'Charging', 'Charging', 'Charging', 'Charging', 'Charging', 'Charging', 'Charging', 'Charging', 'Charging', 'Charging', 'Charging', 'Charging', 'Charging', 'Charging', 'Charging', 'Charging', 'Charging', 'Charging', 'Charging', 'Charging', 'Charging', 'Charging', 'Charging']\n",
            "Learned emission probabilities:\n",
            "[[0.33154217 0.3351245  0.33333333]\n",
            " [0.3720861  0.29458057 0.33333333]\n",
            " [0.29639112 0.37027555 0.33333333]]\n",
            "Learned transition matrix:\n",
            "[[0.33337968 0.33332607 0.33329425]\n",
            " [0.33305523 0.33351142 0.33343335]\n",
            " [0.3337054  0.33313999 0.33315461]]\n"
          ]
        }
      ],
      "source": [
        "# New model predictions and learned probabilities\n",
        "print(\"\\nNew Model Predictions:\")\n",
        "print(\"Predicted states:\")\n",
        "print([id2state[x] for x in new_predicted_states])\n",
        "\n",
        "print(\"Learned emission probabilities:\")\n",
        "print(new_model.emissionprob_)\n",
        "\n",
        "print(\"Learned transition matrix:\")\n",
        "print(new_model.transmat_)"
      ]
    }
  ],
  "metadata": {
    "accelerator": "GPU",
    "colab": {
      "gpuType": "T4",
      "provenance": []
    },
    "kernelspec": {
      "display_name": ".venv",
      "language": "python",
      "name": "python3"
    },
    "language_info": {
      "codemirror_mode": {
        "name": "ipython",
        "version": 3
      },
      "file_extension": ".py",
      "mimetype": "text/x-python",
      "name": "python",
      "nbconvert_exporter": "python",
      "pygments_lexer": "ipython3",
      "version": "3.12.3"
    }
  },
  "nbformat": 4,
  "nbformat_minor": 0
}
