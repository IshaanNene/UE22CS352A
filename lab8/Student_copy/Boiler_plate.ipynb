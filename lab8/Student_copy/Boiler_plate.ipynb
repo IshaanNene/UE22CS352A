{
 "cells": [
  {
   "cell_type": "code",
   "execution_count": 59,
   "metadata": {},
   "outputs": [],
   "source": [
    "# Import your dependencies here"
   ]
  },
  {
   "cell_type": "markdown",
   "metadata": {},
   "source": [
    "# Edit this section\n",
    "\n",
    "* Load_data:\n",
    "    * load data from csv using `\\t` as the separator.\n",
    "    * Drop irrelevant columns\n",
    "    * Label encode\n",
    "    * select the main features and make an array of values (an array of arrays)\n",
    "        * Example format of this:\n",
    "            * `x = data_main[['Education', 'Kidhome', 'Teenhome' ......\n",
    "                   'Z_CostContact', 'Z_Revenue']].values`\n",
    "    * Scalarization of the features\n",
    "    * return `scaled_x` variable which is a variable containing the scaled values of x\n",
    "\n",
    "* apply_pca:\n",
    "    * return `x_pca` variable which is the set of reduced features.\n",
    "    * for ideal results, use n_components as 2. Feel free to experiment with this value but n_components = 2 is ideal case.\n",
    "\n",
    "* find_optimal_clusters:\n",
    "    * this is to find the optimal number of clusters using the elbow method.\n",
    "    * find the values of inertia till max_clusters+1 and append the inertia values to an array.\n",
    "    * return the inertia array with `inertia` variable. `VERY IMPORTANT TO SEE THE GRAPH`\n",
    "\n",
    "* perform_kmeans_clustering:\n",
    "    * use kmeans `init = \"k-means++\"`, `max_iter=300`, `n_init = 10`, `random_state` is your choice and `n_clusters` is the best elbow value.\n",
    "    * return the kmeans fit predict values with `y_kmeans` variable.\n",
    "\n",
    "* perform_agglomerative_clustering:\n",
    "    * Linkage method is \"ward\" and n_clusters is the best elbow value.\n",
    "    * return the agglomerative clustering values after fit predicting the `x` feature values as `y_agglomerative` variable name.\n",
    "\n",
    "* for dendrogram:\n",
    "    * get_linkages:\n",
    "        * it helps to form the linkages between x and in the 'ward' method.\n",
    "        * return `linked` variable which has the linkages.\n",
    "    * plot_dendrogram:\n",
    "        * it is to plot the dendrogram in the (10,7) with x_label as index and y_label as distance\n",
    "        * dendrogram function takes in the linkages from `get_linkages` function as the `linked` variable.\n",
    "\n",
    "* Now, you are requested to submit screenshots of the `dengrogram, test case 1 and 2 passed messages`."
   ]
  },
  {
   "cell_type": "code",
   "execution_count": 62,
   "metadata": {},
   "outputs": [],
   "source": [
    "# Load Data and Preprocess\n",
    "def load_data(filepath):\n",
    "    pass\n",
    "\n",
    "#================ FOR PCA Dimensionality reduction =========\n",
    "# Apply PCA for Dimensionality Reduction\n",
    "def apply_pca(x, n_components):\n",
    "    pass\n",
    "\n",
    "#================ FOR K-Means ===============================\n",
    "# Find Optimal Clusters for KMeans (Elbow Method) \n",
    "def find_optimal_clusters(x, max_clusters=10):\n",
    "    pass\n",
    "\n",
    "# Perform KMeans Clustering \n",
    "# Change None to the number of n_clusters value from the elbow method\n",
    "def perform_kmeans_clustering(x, n_clusters=None):\n",
    "    pass\n",
    "\n",
    "#================ FOR Agglomerative ===============================\n",
    "# Perform Agglomerative Clustering \n",
    "# Change None to the number of n_clusters value from the elbow method\n",
    "def perform_agglomerative_clustering(x, n_clusters=None):\n",
    "    pass\n",
    "\n",
    "#================FOR Dendrogram===============================\n",
    "# Get Linkages for Dendrogram\n",
    "def get_linkages(x):\n",
    "    pass\n",
    "\n",
    "# Plot Dendrogram\n",
    "def plot_dendrogram(linked):\n",
    "    pass"
   ]
  },
  {
   "cell_type": "markdown",
   "metadata": {},
   "source": [
    "# Just edit the file path here... Don't edit anything else!"
   ]
  },
  {
   "cell_type": "code",
   "execution_count": null,
   "metadata": {},
   "outputs": [],
   "source": [
    "from sklearn.metrics import silhouette_score"
   ]
  },
  {
   "cell_type": "code",
   "execution_count": null,
   "metadata": {},
   "outputs": [],
   "source": [
    "filepath = \"<csv file path here>\""
   ]
  },
  {
   "cell_type": "code",
   "execution_count": null,
   "metadata": {},
   "outputs": [],
   "source": [
    "def calculate_silhouette_score(x, y_pred):\n",
    "    return silhouette_score(x, y_pred)"
   ]
  },
  {
   "cell_type": "code",
   "execution_count": null,
   "metadata": {},
   "outputs": [],
   "source": [
    "def main(filepath):\n",
    "    \n",
    "    x = load_data(filepath)\n",
    "\n",
    "    # Apply PCA for Dimensionality Reduction\n",
    "    x_pca = apply_pca(x, n_components=2)\n",
    "    \n",
    "    # KMeans: finding optimal clusters\n",
    "    inertia = find_optimal_clusters(x_pca)\n",
    "    \n",
    "    # KMeans clustering implementation\n",
    "    y_kmeans = perform_kmeans_clustering(x_pca)\n",
    "    \n",
    "    # Agglomerative Clustering\n",
    "    y_agglomerative = perform_agglomerative_clustering(x_pca)\n",
    "    \n",
    "    # Hierarchical Clustering Dendrogram\n",
    "    hierarchical_linked = get_linkages(x_pca)\n",
    "    \n",
    "    # Plot the dendrogram for hierarchical clustering\n",
    "    plot_dendrogram(hierarchical_linked)\n",
    "    \n",
    "    # Silhouette scores\n",
    "    silhouette_kmeans = calculate_silhouette_score(x_pca, y_kmeans)\n",
    "    silhouette_agglomerative = calculate_silhouette_score(x_pca, y_agglomerative)\n",
    "    \n",
    "    # Return results\n",
    "    return {\n",
    "        \"inertia\": inertia,\n",
    "        \"silhouette_kmeans\": silhouette_kmeans,\n",
    "        \"silhouette_agglomerative\": silhouette_agglomerative,\n",
    "        \"agglomerative_clustering\": y_agglomerative,\n",
    "        \"hierarchical_linked\": hierarchical_linked,\n",
    "        \"pca_components\": x_pca\n",
    "    }"
   ]
  },
  {
   "cell_type": "code",
   "execution_count": null,
   "metadata": {},
   "outputs": [],
   "source": [
    "# Call the main function and print silhouette scores and dendrogram\n",
    "result = main(filepath)\n",
    "\n",
    "# Silhouette scores checks \n",
    "if result['silhouette_kmeans'] >= 0.5:\n",
    "    print(\"Test Case 1 passed!\")\n",
    "if result['silhouette_agglomerative'] >= 0.5:\n",
    "    print(\"Test case 2 passed!\")"
   ]
  }
 ],
 "metadata": {
  "kernelspec": {
   "display_name": "Python 3",
   "language": "python",
   "name": "python3"
  },
  "language_info": {
   "codemirror_mode": {
    "name": "ipython",
    "version": 3
   },
   "file_extension": ".py",
   "mimetype": "text/x-python",
   "name": "python",
   "nbconvert_exporter": "python",
   "pygments_lexer": "ipython3",
   "version": "3.12.4"
  }
 },
 "nbformat": 4,
 "nbformat_minor": 2
}
